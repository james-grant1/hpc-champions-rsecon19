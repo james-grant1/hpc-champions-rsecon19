{
 "cells": [
  {
   "cell_type": "markdown",
   "metadata": {
    "slideshow": {
     "slide_type": "slide"
    }
   },
   "source": [
    "# HPC Champions @ RSECon 19\n",
    "\n",
    "## Welcome\n",
    "\n",
    "<img src=\"../images/soc-rse.png\" alt=\"Soc RSE\" style=\"width:200px;\"/>"
   ]
  },
  {
   "cell_type": "markdown",
   "metadata": {
    "slideshow": {
     "slide_type": "slide"
    }
   },
   "source": [
    "## Thank yous\n",
    "\n",
    "### Andy Turner, Jo Beech-Brandt\n",
    "\n",
    "### Debbie Carter, Claire Wyatt\n",
    "\n",
    "Society of Research Software Engineering for sponsorship\n",
    "\n",
    "<img src=\"../images/soc-rse.png\" alt=\"Soc RSE\" style=\"width:200px;\"/>"
   ]
  },
  {
   "cell_type": "markdown",
   "metadata": {
    "slideshow": {
     "slide_type": "slide"
    }
   },
   "source": [
    "## Schedule:\n",
    "\n",
    "| Time | Session |\n",
    "|---|---|\n",
    "| 12:30  | Lunch |\n",
    "| 13:00 | Welcome |\n",
    "|  -  | Talks |\n",
    "| 13:05 | Education |\n",
    "| 13:40 | Tier 2    |\n",
    "| 14:20 | DSL       |\n",
    "| 15:00 | Archer 2 Update |\n",
    "| - | Coffee\n",
    "| 15:30 | Breakout Discussions |\n",
    "| 16:30 | Feedback/whole grou discussion |\n",
    "| 17:30 | Close |\n",
    "\n",
    "Education:\n",
    "\n",
    "- HPC Carpentry, Andy Turner, EPCC\n",
    "- Teaching HPC on a Raspberry Pi Cluster, Colin Sauze, Aberystwyth University\n",
    "\n",
    "Running Tier 2:\n",
    "\n",
    "- Software-defined-software environment, Jeffrey Salmond, University of Cambridge\n",
    "- The MMM Hub User Management and Budgeting Tools, Heather Kelly, University College London\n",
    "- R packages on ARM, Chris Edsall, University of Bristol\n",
    "\n",
    "Domain Specific Languages:\n",
    "\n",
    "- Devito: DSL and code-generation for Finite Difference, Gerard Gorman, Imperial College London\n",
    "- Firedrake: Finite Element DSL, Jack Betteridge, University of Bath\n",
    "- Going off grid: PPMD a DSL for Molecular Simulation, James Grant, University of Bath"
   ]
  }
 ],
 "metadata": {
  "celltoolbar": "Slideshow",
  "kernelspec": {
   "display_name": "Python 3",
   "language": "python",
   "name": "python3"
  },
  "language_info": {
   "codemirror_mode": {
    "name": "ipython",
    "version": 3
   },
   "file_extension": ".py",
   "mimetype": "text/x-python",
   "name": "python",
   "nbconvert_exporter": "python",
   "pygments_lexer": "ipython3",
   "version": "3.7.3"
  }
 },
 "nbformat": 4,
 "nbformat_minor": 2
}
